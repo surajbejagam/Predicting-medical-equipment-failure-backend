{
 "cells": [
  {
   "cell_type": "markdown",
   "id": "ed34a471",
   "metadata": {},
   "source": [
    "\n",
    "# Medical Device Failure Risk Prediction (Step-by-Step)\n",
    "\n",
    "This notebook walks you **step-by-step** through building a **≥90% accuracy** model that predicts **high-risk (Class I)** medical device failures from a worldwide corpus of recalls, safety alerts, and field safety notices.\n",
    "\n",
    "We will:\n",
    "1. Load and explore the data\n",
    "2. Create labels (Class I vs Class II/III)\n",
    "3. Engineer text features\n",
    "4. Train a baseline ML model (TF-IDF + Linear SVM)\n",
    "5. Evaluate with accuracy, confusion matrix, and class-wise metrics\n",
    "6. Save a reusable model and demonstrate predictions\n"
   ]
  },
  {
   "cell_type": "markdown",
   "id": "fb2e7fbe",
   "metadata": {},
   "source": [
    "## 1) Setup & Imports"
   ]
  },
  {
   "cell_type": "code",
   "execution_count": 6,
   "id": "8d3beb17",
   "metadata": {},
   "outputs": [
    {
     "name": "stdout",
     "output_type": "stream",
     "text": [
      "Libraries loaded.\n"
     ]
    }
   ],
   "source": [
    "\n",
    "import pandas as pd\n",
    "import numpy as np\n",
    "from pathlib import Path\n",
    "\n",
    "# Modeling\n",
    "from sklearn.model_selection import train_test_split\n",
    "from sklearn.feature_extraction.text import TfidfVectorizer\n",
    "from sklearn.svm import LinearSVC\n",
    "from sklearn.pipeline import Pipeline\n",
    "from sklearn.metrics import accuracy_score, classification_report, confusion_matrix, precision_recall_curve, average_precision_score\n",
    "from sklearn.base import BaseEstimator, TransformerMixin\n",
    "import joblib\n",
    "\n",
    "# Plotting\n",
    "import matplotlib.pyplot as plt\n",
    "\n",
    "# Display settings\n",
    "pd.set_option('max_colwidth', 200)\n",
    "print(\"Libraries loaded.\")\n"
   ]
  },
  {
   "cell_type": "markdown",
   "id": "28038645",
   "metadata": {},
   "source": [
    "\n",
    "## 2) Load the datasets\n",
    "\n",
    "> We use the three CSVs you provided. Adjust paths below if running elsewhere.\n"
   ]
  },
  {
   "cell_type": "code",
   "execution_count": 7,
   "id": "64d27113",
   "metadata": {},
   "outputs": [
    {
     "name": "stdout",
     "output_type": "stream",
     "text": [
      "events: shape=(124969, 30)\n",
      "   id action action_classification action_level action_summary  \\\n",
      "0   1    NaN                   NaN          NaN         Recall   \n",
      "1   2    NaN                   NaN          NaN         Recall   \n",
      "\n",
      "            authorities_link country create_date data_notes        date  ...  \\\n",
      "0  https://www.titck.gov.tr/     TUR         NaN        NaN  2016-04-04  ...   \n",
      "1  https://www.titck.gov.tr/     TUR         NaN        NaN  2016-09-20  ...   \n",
      "\n",
      "  status target_audience                 type                         uid  \\\n",
      "0    NaN             NaN  Field Safety Notice  2016/294   &   FA24MAR2016   \n",
      "1    NaN             NaN  Field Safety Notice  2016/844   &   FSCA2016-02   \n",
      "\n",
      "   uid_hash  \\\n",
      "0  41570514   \n",
      "1  415f04f4   \n",
      "\n",
      "                                                                                                                       url  \\\n",
      "0  https://web.archive.org/web/20170817053524/http://www.titck.gov.tr/PortalAdmin/Uploads/Titck/Dynamic/2016-294%20SGB.pdf   \n",
      "1      https://web.archive.org/web/20170817104322/http://titck.gov.tr/PortalAdmin/Uploads/Titck/Dynamic/2016-844%20sgb.pdf   \n",
      "\n",
      "                                                                                             slug  \\\n",
      "0                                                                   tur-cell-dyn-emerald-cleanser   \n",
      "1  tur-tecnis-monofocal-1-piece-tecnis-1-piece-iol-with-the-tecnis-itec-preloaded-delivery-system   \n",
      "\n",
      "  device_id               created_at               updated_at  \n",
      "0         1  2022-08-04 08:28:00 UTC  2022-08-04 08:28:00 UTC  \n",
      "1         2  2022-08-04 08:28:00 UTC  2022-08-04 08:28:00 UTC  \n",
      "\n",
      "[2 rows x 30 columns] \n",
      "\n",
      "devices: shape=(118249, 15)\n",
      "   id classification code description distributed_to implanted  \\\n",
      "0   1            NaN  NaN   IVD Other            NaN       NaN   \n",
      "1   2            NaN  NaN   Class IIB            NaN       NaN   \n",
      "\n",
      "                                                                                                                                                                                                      name  \\\n",
      "0                                                                                                                                                                                Cell-Dyn Emerald Cleanser   \n",
      "1  TECNIS Monofocal 1-piece, TECNIS 1-Piece IOL with the TECNIS iTec Preloaded Delivery System,  SENSAR Acrylic Monofocal TECNIS Multifocal 1-piece, TECNIS Symfony Extended Range of Vision Foldable A...   \n",
      "\n",
      "  number quantity_in_commerce risk_class  \\\n",
      "0    NaN                  NaN        NaN   \n",
      "1    NaN                  NaN        NaN   \n",
      "\n",
      "                                                                                             slug  \\\n",
      "0                                                                   tur-cell-dyn-emerald-cleanser   \n",
      "1  tur-tecnis-monofocal-1-piece-tecnis-1-piece-iol-with-the-tecnis-itec-preloaded-delivery-system   \n",
      "\n",
      "  country  manufacturer_id               created_at               updated_at  \n",
      "0     TUR                1  2022-08-04 08:28:00 UTC  2022-08-04 08:28:00 UTC  \n",
      "1     TUR                2  2022-08-04 08:28:00 UTC  2022-08-04 08:28:00 UTC   \n",
      "\n",
      "manufacturers: shape=(31827, 10)\n",
      "   id address  \\\n",
      "0   1     NaN   \n",
      "1   2     NaN   \n",
      "\n",
      "                                                                                                                                                                                                   comment  \\\n",
      "0  “We are in constant communication with regulatory agencies and competent authorities worldwide which allows us to implement global recalls or in-country communication quickly and effectively,” Abb...   \n",
      "1                                                                                                                                                                                                      NaN   \n",
      "\n",
      "                               name       parent_company representative  \\\n",
      "0                Abbot Laboratories  Abbott Laboratories            NaN   \n",
      "1  Abbott Medical Optics (AMO) Inc.    Johnson & Johnson            NaN   \n",
      "\n",
      "                                                                          slug  \\\n",
      "0             turkey-drugs-and-medical-devices-agency-titck-abbot-laboratories   \n",
      "1  turkey-drugs-and-medical-devices-agency-titck-abbott-medical-optics-amo-inc   \n",
      "\n",
      "                                            source               created_at  \\\n",
      "0  Turkey Drugs and Medical Devices Agency (Titck)  2022-08-04 08:28:00 UTC   \n",
      "1  Turkey Drugs and Medical Devices Agency (Titck)  2022-08-04 08:28:00 UTC   \n",
      "\n",
      "                updated_at  \n",
      "0  2022-08-04 08:28:00 UTC  \n",
      "1  2022-08-04 08:28:00 UTC   \n",
      "\n"
     ]
    }
   ],
   "source": [
    "\n",
    "DATA_EVENTS = \"/mnt/data/events-1681209680.csv\"\n",
    "DATA_DEVICES = \"/mnt/data/devices-1681209661.csv\"\n",
    "DATA_MANUFACTURERS = \"/mnt/data/manufacturers-1681209657.csv\"\n",
    "\n",
    "events = pd.read_csv('C:\\\\Users\\\\suraj\\\\OneDrive\\\\Desktop\\\\dataset\\\\events-1681209680.csv', low_memory=False)\n",
    "devices = pd.read_csv('C:\\\\Users\\\\suraj\\\\OneDrive\\\\Desktop\\\\dataset\\\\devices-1681209661.csv', low_memory=False)\n",
    "manufacturers = pd.read_csv(\"C:\\\\Users\\\\suraj\\\\OneDrive\\\\Desktop\\\\dataset\\\\manufacturers-1681209657.csv\", low_memory=False)\n",
    "\n",
    "for name, df in {\"events\": events, \"devices\": devices, \"manufacturers\": manufacturers}.items():\n",
    "    print(f\"{name}: shape={df.shape}\")\n",
    "    print(df.head(2), \"\\n\")\n"
   ]
  },
  {
   "cell_type": "markdown",
   "id": "b89d56b9",
   "metadata": {},
   "source": [
    "\n",
    "## 3) Create the target label (high risk)\n",
    "\n",
    "- We treat **Class I** cases as `high_risk = 1`.\n",
    "- We treat **Class II** and **Class III** cases as `high_risk = 0`.\n",
    "- Rows without a known class are dropped for supervised training.\n"
   ]
  },
  {
   "cell_type": "code",
   "execution_count": 8,
   "id": "40bab6e6",
   "metadata": {},
   "outputs": [
    {
     "name": "stdout",
     "output_type": "stream",
     "text": [
      "high_risk\n",
      "NaN    72023\n",
      "0.0    48924\n",
      "1.0     4022\n",
      "Name: count, dtype: int64\n",
      "Training rows with labels: 52946\n",
      "Training rows with labels: 52946\n"
     ]
    }
   ],
   "source": [
    "\n",
    "def map_severity(v):\n",
    "    if pd.isna(v):\n",
    "        return None\n",
    "    s = str(v).strip().upper().replace(\"CLASS \", \"\")\n",
    "    if s in {\"I\",\"1\"}:\n",
    "        return 1\n",
    "    if s in {\"II\",\"2\",\"III\",\"3\"}:\n",
    "        return 0\n",
    "    return None\n",
    "\n",
    "events['high_risk'] = events['action_classification'].map(map_severity)\n",
    "print(events['high_risk'].value_counts(dropna=False))\n",
    "\n",
    "# Merge device/manufacturer info (optional enrichment; we will mainly use text fields)\n",
    "df = events.merge(devices.add_prefix(\"device_\"), left_on=\"device_id\", right_on=\"device_id\", how=\"left\")\n",
    "df = df.merge(manufacturers.add_prefix(\"mfg_\"), left_on=\"device_manufacturer_id\", right_on=\"mfg_id\", how=\"left\")\n",
    "\n",
    "labeled = df[df['high_risk'].isin([0,1])].copy()\n",
    "print(\"Training rows with labels:\", labeled.shape[0])\n"
   ]
  },
  {
   "cell_type": "markdown",
   "id": "a4cfaf8f",
   "metadata": {},
   "source": [
    "\n",
    "## 4) Feature engineering (text)\n",
    "\n",
    "We'll concatenate the most informative text fields (if present). Missing fields default to empty strings.\n"
   ]
  },
  {
   "cell_type": "code",
   "execution_count": 9,
   "id": "6812104f",
   "metadata": {},
   "outputs": [
    {
     "name": "stdout",
     "output_type": "stream",
     "text": [
      "Example concatenated text:\n",
      "      action_classification  \\\n",
      "56955               Class 2   \n",
      "14081               Class 2   \n",
      "22616               Class 2   \n",
      "\n",
      "                                                                                                                                                                                                          text  \n",
      "56955   External tubing may separate during use, allowing blood loss. All of Merit's US sales representatives and distributors were notified by Prelude Short Sheath Introducer - Product Recall letter on ...  \n",
      "14081   Stryker Instruments is voluntarily recalling the CBCII Wound Drains and Ambulating Bulb for a potential sterility breach in the packaging An URGENT MEDICAL DEVICE NOTIFICATION letter was sent to ...  \n",
      "22616   An input error can be made with Magnetom MRI software. Software allows users to manually change Transmit Reference Voltage in certain windows The recalling firm issued a Customer Safety Advisory ...  \n"
     ]
    }
   ],
   "source": [
    "\n",
    "text_fields = [\n",
    "    'action_summary','reason','action','data_notes',\n",
    "    'device_description','device_name','device_classification','device_risk_class'\n",
    "]\n",
    "for c in text_fields:\n",
    "    if c not in labeled.columns:\n",
    "        labeled[c] = \"\"\n",
    "\n",
    "labeled['text'] = labeled[text_fields].fillna('').agg(' '.join, axis=1)\n",
    "\n",
    "print(\"Example concatenated text:\")\n",
    "print(labeled[['action_classification','text']].sample(3, random_state=42))\n"
   ]
  },
  {
   "cell_type": "markdown",
   "id": "705bd994",
   "metadata": {},
   "source": [
    "\n",
    "## 5) Train/Validation split\n",
    "\n",
    "We use a **stratified 80/20 split** to preserve the positive rate in both sets.\n"
   ]
  },
  {
   "cell_type": "code",
   "execution_count": 10,
   "id": "fc1b1001",
   "metadata": {},
   "outputs": [
    {
     "name": "stdout",
     "output_type": "stream",
     "text": [
      "Train size: 42356  Test size: 10590\n"
     ]
    }
   ],
   "source": [
    "\n",
    "X = labeled['text']\n",
    "y = labeled['high_risk'].astype(int)\n",
    "\n",
    "X_train, X_test, y_train, y_test = train_test_split(\n",
    "    X, y, test_size=0.2, stratify=y, random_state=42\n",
    ")\n",
    "print(\"Train size:\", X_train.shape[0], \" Test size:\", X_test.shape[0])\n"
   ]
  },
  {
   "cell_type": "markdown",
   "id": "e0f65bf1",
   "metadata": {},
   "source": [
    "\n",
    "## 6) Build & train the model\n",
    "\n",
    "We use `TF-IDF (1–2 word n-grams)` + `LinearSVC` with `class_weight=\"balanced\"`.\n",
    "This baseline is fast and typically strong for large, sparse text.\n"
   ]
  },
  {
   "cell_type": "code",
   "execution_count": 11,
   "id": "545603ac",
   "metadata": {},
   "outputs": [
    {
     "name": "stdout",
     "output_type": "stream",
     "text": [
      "Model trained.\n"
     ]
    }
   ],
   "source": [
    "\n",
    "pipe = Pipeline([\n",
    "    (\"tfidf\", TfidfVectorizer(max_features=30000, ngram_range=(1,2), min_df=5)),\n",
    "    (\"clf\", LinearSVC(class_weight=\"balanced\", C=0.5)),\n",
    "])\n",
    "\n",
    "pipe.fit(X_train, y_train)\n",
    "print(\"Model trained.\")\n"
   ]
  },
  {
   "cell_type": "markdown",
   "id": "a6f47c24",
   "metadata": {},
   "source": [
    "\n",
    "## 7) Evaluate\n",
    "\n",
    "We check **accuracy**, show a **confusion matrix**, and include a **classification report**.  \n",
    "> Note: Because Class I is typically rare, also look at **recall/precision for Class I** rather than accuracy alone.\n"
   ]
  },
  {
   "cell_type": "code",
   "execution_count": 12,
   "id": "8428228f",
   "metadata": {},
   "outputs": [
    {
     "name": "stdout",
     "output_type": "stream",
     "text": [
      "Accuracy: 0.9556\n",
      "\n",
      "Classification report:\n",
      "\n",
      "              precision    recall  f1-score   support\n",
      "\n",
      "           0      0.984     0.967     0.976      9786\n",
      "           1      0.671     0.813     0.736       804\n",
      "\n",
      "    accuracy                          0.956     10590\n",
      "   macro avg      0.828     0.890     0.856     10590\n",
      "weighted avg      0.961     0.956     0.958     10590\n",
      "\n"
     ]
    },
    {
     "data": {
      "image/png": "[encoded data removed]",
      "text/plain": [
       "<Figure size 400x400 with 2 Axes>"
      ]
     },
     "metadata": {},
     "output_type": "display_data"
    }
   ],
   "source": [
    "\n",
    "# Predictions\n",
    "y_pred = pipe.predict(X_test)\n",
    "\n",
    "# Accuracy\n",
    "acc = accuracy_score(y_test, y_pred)\n",
    "print(f\"Accuracy: {acc:.4f}\")\n",
    "\n",
    "# Classification report\n",
    "print(\"\\nClassification report:\\n\")\n",
    "print(classification_report(y_test, y_pred, digits=3))\n",
    "\n",
    "# Confusion matrix plot\n",
    "cm = confusion_matrix(y_test, y_pred)\n",
    "fig = plt.figure(figsize=(4,4))\n",
    "plt.imshow(cm, interpolation='nearest')\n",
    "plt.title(\"Confusion Matrix (Test)\")\n",
    "plt.colorbar()\n",
    "tick_marks = np.arange(2)\n",
    "plt.xticks(tick_marks, ['Low', 'High'], rotation=45)\n",
    "plt.yticks(tick_marks, ['Low', 'High'])\n",
    "for i in range(cm.shape[0]):\n",
    "    for j in range(cm.shape[1]):\n",
    "        plt.text(j, i, format(cm[i, j], 'd'), horizontalalignment=\"center\")\n",
    "plt.ylabel('True label')\n",
    "plt.xlabel('Predicted label')\n",
    "plt.tight_layout()\n",
    "plt.show()\n"
   ]
  },
  {
   "cell_type": "markdown",
   "id": "49da4ae9",
   "metadata": {},
   "source": [
    "\n",
    "## 8) Save the trained pipeline\n",
    "\n",
    "We persist the pipeline so you can load it for inference anywhere.\n"
   ]
  },
  {
   "cell_type": "code",
   "execution_count": 13,
   "id": "87976b16",
   "metadata": {},
   "outputs": [
    {
     "name": "stdout",
     "output_type": "stream",
     "text": [
      "Saved model to C:\\Users\\suraj\\OneDrive\\Desktop\\training_project\\medical_device_failure_risk_pipeline.pkl\n"
     ]
    }
   ],
   "source": [
    "\n",
    "MODEL_PATH = Path(\"medical_device_failure_risk_pipeline.pkl\")\n",
    "import joblib\n",
    "joblib.dump(pipe, MODEL_PATH)\n",
    "print(\"Saved model to\", MODEL_PATH.resolve())\n"
   ]
  },
  {
   "cell_type": "markdown",
   "id": "461cdf4f",
   "metadata": {},
   "source": [
    "\n",
    "## 9) Inference examples\n",
    "\n",
    "Two quick demos: a) single row dictionary; b) a mini DataFrame.\n"
   ]
  },
  {
   "cell_type": "code",
   "execution_count": 14,
   "id": "cf6c2ba8",
   "metadata": {},
   "outputs": [
    {
     "name": "stdout",
     "output_type": "stream",
     "text": [
      "Single-row prediction (1=High risk): 0\n"
     ]
    },
    {
     "data": {
      "text/html": [
       "<div>\n",
       "<style scoped>\n",
       "    .dataframe tbody tr th:only-of-type {\n",
       "        vertical-align: middle;\n",
       "    }\n",
       "\n",
       "    .dataframe tbody tr th {\n",
       "        vertical-align: top;\n",
       "    }\n",
       "\n",
       "    .dataframe thead th {\n",
       "        text-align: right;\n",
       "    }\n",
       "</style>\n",
       "<table border=\"1\" class=\"dataframe\">\n",
       "  <thead>\n",
       "    <tr style=\"text-align: right;\">\n",
       "      <th></th>\n",
       "      <th>action_summary</th>\n",
       "      <th>reason</th>\n",
       "      <th>pred_high_risk</th>\n",
       "    </tr>\n",
       "  </thead>\n",
       "  <tbody>\n",
       "    <tr>\n",
       "      <th>0</th>\n",
       "      <td>Recalled due to life-threatening failure of ventilator</td>\n",
       "      <td>Power failure risk</td>\n",
       "      <td>1</td>\n",
       "    </tr>\n",
       "    <tr>\n",
       "      <th>1</th>\n",
       "      <td>Labeling correction for catheter kit</td>\n",
       "      <td>Mismatch in IFU wording</td>\n",
       "      <td>0</td>\n",
       "    </tr>\n",
       "  </tbody>\n",
       "</table>\n",
       "</div>"
      ],
      "text/plain": [
       "                                           action_summary  \\\n",
       "0  Recalled due to life-threatening failure of ventilator   \n",
       "1                    Labeling correction for catheter kit   \n",
       "\n",
       "                    reason  pred_high_risk  \n",
       "0       Power failure risk               1  \n",
       "1  Mismatch in IFU wording               0  "
      ]
     },
     "execution_count": 14,
     "metadata": {},
     "output_type": "execute_result"
    }
   ],
   "source": [
    "\n",
    "# Reload (simulating a fresh process)\n",
    "clf = joblib.load(\"medical_device_failure_risk_pipeline.pkl\")\n",
    "\n",
    "def predict_text_row(row: dict):\n",
    "    # minimal fields are fine; missing keys default to empty strings\n",
    "    fields = ['action_summary','reason','action','data_notes','device_description','device_name','device_classification','device_risk_class']\n",
    "    txt = ' '.join([str(row.get(k, '') or '') for k in fields])\n",
    "    pred = clf.predict([txt])[0]\n",
    "    return int(pred)\n",
    "\n",
    "row = {\"action_summary\": \"Urgent Field Safety Notice for infusion set\", \"reason\": \"Leak may cause under-infusion\"}\n",
    "print(\"Single-row prediction (1=High risk):\", predict_text_row(row))\n",
    "\n",
    "mini = pd.DataFrame([\n",
    "    {\"action_summary\": \"Recalled due to life-threatening failure of ventilator\", \"reason\": \"Power failure risk\"},\n",
    "    {\"action_summary\": \"Labeling correction for catheter kit\", \"reason\": \"Mismatch in IFU wording\"}\n",
    "])\n",
    "mini[\"text\"] = mini.apply(lambda r: ' '.join([str(r.get(c,'')) for c in ['action_summary','reason']]), axis=1)\n",
    "mini[\"pred_high_risk\"] = clf.predict(mini[\"text\"])\n",
    "mini[[\"action_summary\",\"reason\",\"pred_high_risk\"]]\n"
   ]
  },
  {
   "cell_type": "markdown",
   "id": "a4b31519",
   "metadata": {},
   "source": [
    "\n",
    "## 10) Next steps to improve beyond 90%\n",
    "\n",
    "- **Temporal validation** (train on older, test on newer events) to mimic real-world deployment.\n",
    "- **Threshold tuning** for better **Class I recall**.\n",
    "- **Add metadata features** (country, device class, manufacturer history) via feature unions.\n",
    "- **Probability calibration** (e.g., `CalibratedClassifierCV`) if you need well-behaved scores for risk dashboards.\n"
   ]
  },
  {
   "cell_type": "markdown",
   "id": "576d2ad1",
   "metadata": {},
   "source": []
  },
  {
   "cell_type": "markdown",
   "id": "60c71479",
   "metadata": {},
   "source": []
  },
  {
   "cell_type": "code",
   "execution_count": null,
   "id": "413f4fb7",
   "metadata": {},
   "outputs": [],
   "source": []
  },
  {
   "cell_type": "markdown",
   "id": "35df4860",
   "metadata": {},
   "source": []
  },
  {
   "cell_type": "code",
   "execution_count": 18,
   "id": "2a40f3c6",
   "metadata": {},
   "outputs": [
    {
     "name": "stdout",
     "output_type": "stream",
     "text": [
      "[0]\n"
     ]
    }
   ],
   "source": [
    "# Test the trained model with a sample input\n",
    "sample_text = \"Battery overheating may cause burns\"\n",
    "sample_pred = pipe.predict([sample_text])\n",
    "print(f\"{sample_pred}\")"
   ]
  },
  {
   "cell_type": "code",
   "execution_count": null,
   "id": "d1766618",
   "metadata": {},
   "outputs": [],
   "source": []
  },
  {
   "cell_type": "code",
   "execution_count": 17,
   "id": "ba919d03",
   "metadata": {},
   "outputs": [
    {
     "name": "stdout",
     "output_type": "stream",
     "text": [
      "Sample prediction (1=High risk, 0=Low risk): [0]\n"
     ]
    }
   ],
   "source": [
    "# Test the trained model with both reason and action fields (like predict.py)\n",
    "sample_row = {\n",
    "    \"reason\": \"Battery overheating may cause burns\",\n",
    "    \"action\": \"recall\"\n",
    "}\n",
    "fields = [\n",
    "    'action_summary','reason','action','data_notes',\n",
    "    'device_description','device_name','device_classification','device_risk_class'\n",
    "]\n",
    "sample_text = ' '.join([str(sample_row.get(k, '') or '') for k in fields])\n",
    "sample_pred = pipe.predict([sample_text])\n",
    "print(f\"Sample prediction (1=High risk, 0=Low risk): {sample_pred}\")"
   ]
  },
  {
   "cell_type": "code",
   "execution_count": null,
   "id": "4c81b7c0",
   "metadata": {},
   "outputs": [],
   "source": []
  },
  {
   "cell_type": "code",
   "execution_count": null,
   "id": "02a4652c",
   "metadata": {},
   "outputs": [],
   "source": [
    "# Ensure the model is loaded or trained before prediction\n",
    "try:\n",
    "    pipe\n",
    "except NameError:\n",
    "    import joblib\n",
    "    pipe = joblib.load(\"medical_device_failure_risk_pipeline.pkl\")\n",
    "\n",
    "sample_row = {\n",
    "    \"reason\": \"Battery overheating may cause burns\",\n",
    "    \"action\": \"recall\"\n",
    "}\n",
    "fields = [\n",
    "    'action_summary','reason','action','data_notes',\n",
    "    'device_description','device_name','device_classification','device_risk_class'\n",
    "]\n",
    "sample_text = ' '.join([str(sample_row.get(k, '') or '') for k in fields])\n",
    "sample_pred = pipe.predict([sample_text])[0]\n",
    "print(f\"Sample prediction (1=High risk, 0=Low risk): {sample_pred}\")"
   ]
  }
 ],
 "metadata": {
  "kernelspec": {
   "display_name": "Python 3",
   "language": "python",
   "name": "python3"
  },
  "language_info": {
   "codemirror_mode": {
    "name": "ipython",
    "version": 3
   },
   "file_extension": ".py",
   "mimetype": "text/x-python",
   "name": "python",
   "nbconvert_exporter": "python",
   "pygments_lexer": "ipython3",
   "version": "3.10.9"
  }
 },
 "nbformat": 4,
 "nbformat_minor": 5
}
